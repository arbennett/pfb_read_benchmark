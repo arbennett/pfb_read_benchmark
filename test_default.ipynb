{
 "cells": [
  {
   "cell_type": "code",
   "execution_count": 1,
   "metadata": {},
   "outputs": [],
   "source": [
    "import os\n",
    "import time\n",
    "from src import default_pfio as d\n",
    "from src import refactor_pfio as r\n",
    "\n",
    "DIR = '/hydrodata/forcing/processed_data/CONUS2/CW3E/hourly/WY2015'\n",
    "file_list = [f'{DIR}/CW3E.APCP.000001_to_000024.pfb',\n",
    "             f'{DIR}/CW3E.APCP.000025_to_000048.pfb',\n",
    "             f'{DIR}/CW3E.APCP.000049_to_000072.pfb',\n",
    "             f'{DIR}/CW3E.APCP.000073_to_000096.pfb',\n",
    "             f'{DIR}/CW3E.APCP.000097_to_000120.pfb',\n",
    "             f'{DIR}/CW3E.APCP.000121_to_000144.pfb',\n",
    "             f'{DIR}/CW3E.APCP.000145_to_000168.pfb',\n",
    "             f'{DIR}/CW3E.APCP.000169_to_000192.pfb',\n",
    "             f'{DIR}/CW3E.APCP.000193_to_000216.pfb',\n",
    "             f'{DIR}/CW3E.APCP.000217_to_000240.pfb',]"
   ]
  },
  {
   "cell_type": "code",
   "execution_count": null,
   "metadata": {},
   "outputs": [],
   "source": [
    "# Read whole pfb using same code as in pftools"
   ]
  },
  {
   "cell_type": "code",
   "execution_count": 2,
   "metadata": {},
   "outputs": [
    {
     "name": "stdout",
     "output_type": "stream",
     "text": [
      "/hydrodata/forcing/processed_data/CONUS2/CW3E/hourly/WY2015/CW3E.APCP.000001_to_000024.pfb 3.398458480834961\n",
      "/hydrodata/forcing/processed_data/CONUS2/CW3E/hourly/WY2015/CW3E.APCP.000025_to_000048.pfb 2.579176902770996\n",
      "/hydrodata/forcing/processed_data/CONUS2/CW3E/hourly/WY2015/CW3E.APCP.000049_to_000072.pfb 2.5743634700775146\n",
      "/hydrodata/forcing/processed_data/CONUS2/CW3E/hourly/WY2015/CW3E.APCP.000073_to_000096.pfb 2.5614068508148193\n",
      "/hydrodata/forcing/processed_data/CONUS2/CW3E/hourly/WY2015/CW3E.APCP.000097_to_000120.pfb 2.574565887451172\n",
      "/hydrodata/forcing/processed_data/CONUS2/CW3E/hourly/WY2015/CW3E.APCP.000121_to_000144.pfb 2.33256459236145\n",
      "/hydrodata/forcing/processed_data/CONUS2/CW3E/hourly/WY2015/CW3E.APCP.000145_to_000168.pfb 2.3786885738372803\n",
      "/hydrodata/forcing/processed_data/CONUS2/CW3E/hourly/WY2015/CW3E.APCP.000169_to_000192.pfb 2.370891809463501\n",
      "/hydrodata/forcing/processed_data/CONUS2/CW3E/hourly/WY2015/CW3E.APCP.000193_to_000216.pfb 2.374176502227783\n",
      "/hydrodata/forcing/processed_data/CONUS2/CW3E/hourly/WY2015/CW3E.APCP.000217_to_000240.pfb 2.370117664337158\n"
     ]
    }
   ],
   "source": [
    "for f in file_list:\n",
    "    t0 = time.time()\n",
    "    d.read_pfb(f)\n",
    "    t1 = time.time()\n",
    "    print(f, t1-t0)"
   ]
  },
  {
   "cell_type": "markdown",
   "metadata": {},
   "source": [
    "# Record subgrid info so that we can reuse it rather than reading for each file"
   ]
  },
  {
   "cell_type": "code",
   "execution_count": 3,
   "metadata": {},
   "outputs": [],
   "source": [
    "pfb_reader = r.ParflowBinaryReader(file_list[0])\n",
    "sg_info = {\n",
    "    'subgrid_offsets': pfb_reader.subgrid_offsets,\n",
    "    'subgrid_locations': pfb_reader.subgrid_locations,\n",
    "    'subgrid_start_indices': pfb_reader.subgrid_start_indices,\n",
    "    'subgrid_shapes': pfb_reader.subgrid_shapes,\n",
    "    'chunks': pfb_reader.chunks,\n",
    "    'coords': pfb_reader.coords,\n",
    "}"
   ]
  },
  {
   "cell_type": "markdown",
   "metadata": {},
   "source": [
    "# Now read whole pfb but using cached subgrid info to jump to offsets"
   ]
  },
  {
   "cell_type": "code",
   "execution_count": 4,
   "metadata": {},
   "outputs": [
    {
     "name": "stdout",
     "output_type": "stream",
     "text": [
      "/hydrodata/forcing/processed_data/CONUS2/CW3E/hourly/WY2015/CW3E.APCP.000001_to_000024.pfb 2.3833627700805664\n",
      "/hydrodata/forcing/processed_data/CONUS2/CW3E/hourly/WY2015/CW3E.APCP.000025_to_000048.pfb 2.440382719039917\n",
      "/hydrodata/forcing/processed_data/CONUS2/CW3E/hourly/WY2015/CW3E.APCP.000049_to_000072.pfb 2.4571356773376465\n",
      "/hydrodata/forcing/processed_data/CONUS2/CW3E/hourly/WY2015/CW3E.APCP.000073_to_000096.pfb 2.439436197280884\n",
      "/hydrodata/forcing/processed_data/CONUS2/CW3E/hourly/WY2015/CW3E.APCP.000097_to_000120.pfb 2.4090609550476074\n",
      "/hydrodata/forcing/processed_data/CONUS2/CW3E/hourly/WY2015/CW3E.APCP.000121_to_000144.pfb 2.209151268005371\n",
      "/hydrodata/forcing/processed_data/CONUS2/CW3E/hourly/WY2015/CW3E.APCP.000145_to_000168.pfb 2.2462618350982666\n",
      "/hydrodata/forcing/processed_data/CONUS2/CW3E/hourly/WY2015/CW3E.APCP.000169_to_000192.pfb 2.24715518951416\n",
      "/hydrodata/forcing/processed_data/CONUS2/CW3E/hourly/WY2015/CW3E.APCP.000193_to_000216.pfb 2.2549266815185547\n",
      "/hydrodata/forcing/processed_data/CONUS2/CW3E/hourly/WY2015/CW3E.APCP.000217_to_000240.pfb 2.240143299102783\n"
     ]
    }
   ],
   "source": [
    "for f in file_list:\n",
    "    t0 = time.time()\n",
    "    r.read_pfb(f, sg_info=sg_info)\n",
    "    t1 = time.time()\n",
    "    print(f, t1-t0)"
   ]
  },
  {
   "cell_type": "markdown",
   "metadata": {},
   "source": [
    "# Read a particular subgrid using the same code as in pftools"
   ]
  },
  {
   "cell_type": "code",
   "execution_count": 8,
   "metadata": {},
   "outputs": [
    {
     "name": "stdout",
     "output_type": "stream",
     "text": [
      "/hydrodata/forcing/processed_data/CONUS2/CW3E/hourly/WY2015/CW3E.APCP.000001_to_000024.pfb 0.0009219646453857422\n",
      "/hydrodata/forcing/processed_data/CONUS2/CW3E/hourly/WY2015/CW3E.APCP.000025_to_000048.pfb 0.0009233951568603516\n",
      "/hydrodata/forcing/processed_data/CONUS2/CW3E/hourly/WY2015/CW3E.APCP.000049_to_000072.pfb 0.0012273788452148438\n",
      "/hydrodata/forcing/processed_data/CONUS2/CW3E/hourly/WY2015/CW3E.APCP.000073_to_000096.pfb 0.0012094974517822266\n",
      "/hydrodata/forcing/processed_data/CONUS2/CW3E/hourly/WY2015/CW3E.APCP.000097_to_000120.pfb 0.0016551017761230469\n",
      "/hydrodata/forcing/processed_data/CONUS2/CW3E/hourly/WY2015/CW3E.APCP.000121_to_000144.pfb 0.0013687610626220703\n",
      "/hydrodata/forcing/processed_data/CONUS2/CW3E/hourly/WY2015/CW3E.APCP.000145_to_000168.pfb 0.0009894371032714844\n",
      "/hydrodata/forcing/processed_data/CONUS2/CW3E/hourly/WY2015/CW3E.APCP.000169_to_000192.pfb 0.0008578300476074219\n",
      "/hydrodata/forcing/processed_data/CONUS2/CW3E/hourly/WY2015/CW3E.APCP.000193_to_000216.pfb 0.0009925365447998047\n",
      "/hydrodata/forcing/processed_data/CONUS2/CW3E/hourly/WY2015/CW3E.APCP.000217_to_000240.pfb 0.0010313987731933594\n"
     ]
    }
   ],
   "source": [
    "for f in file_list:\n",
    "    reader = d.ParflowBinaryReader(f)\n",
    "    t0 = time.time()\n",
    "    reader.iloc_subgrid(10)\n",
    "    t1 = time.time()\n",
    "    print(f, t1-t0)"
   ]
  },
  {
   "cell_type": "markdown",
   "metadata": {},
   "source": [
    "# Read a particular subgrid, but using cached offsets"
   ]
  },
  {
   "cell_type": "code",
   "execution_count": 6,
   "metadata": {},
   "outputs": [
    {
     "name": "stdout",
     "output_type": "stream",
     "text": [
      "/hydrodata/forcing/processed_data/CONUS2/CW3E/hourly/WY2015/CW3E.APCP.000001_to_000024.pfb 0.0010571479797363281\n",
      "/hydrodata/forcing/processed_data/CONUS2/CW3E/hourly/WY2015/CW3E.APCP.000025_to_000048.pfb 0.0010614395141601562\n",
      "/hydrodata/forcing/processed_data/CONUS2/CW3E/hourly/WY2015/CW3E.APCP.000049_to_000072.pfb 0.001481771469116211\n",
      "/hydrodata/forcing/processed_data/CONUS2/CW3E/hourly/WY2015/CW3E.APCP.000073_to_000096.pfb 0.0012547969818115234\n",
      "/hydrodata/forcing/processed_data/CONUS2/CW3E/hourly/WY2015/CW3E.APCP.000097_to_000120.pfb 0.0010116100311279297\n",
      "/hydrodata/forcing/processed_data/CONUS2/CW3E/hourly/WY2015/CW3E.APCP.000121_to_000144.pfb 0.001094818115234375\n",
      "/hydrodata/forcing/processed_data/CONUS2/CW3E/hourly/WY2015/CW3E.APCP.000145_to_000168.pfb 0.0009448528289794922\n",
      "/hydrodata/forcing/processed_data/CONUS2/CW3E/hourly/WY2015/CW3E.APCP.000169_to_000192.pfb 0.0013117790222167969\n",
      "/hydrodata/forcing/processed_data/CONUS2/CW3E/hourly/WY2015/CW3E.APCP.000193_to_000216.pfb 0.0009679794311523438\n",
      "/hydrodata/forcing/processed_data/CONUS2/CW3E/hourly/WY2015/CW3E.APCP.000217_to_000240.pfb 0.0009546279907226562\n"
     ]
    }
   ],
   "source": [
    "for f in file_list:\n",
    "    reader = r.ParflowBinaryReader(f, sg_info=sg_info)\n",
    "    t0 = time.time()\n",
    "    reader.iloc_subgrid(10)\n",
    "    t1 = time.time()\n",
    "    print(f, t1-t0)\n"
   ]
  },
  {
   "cell_type": "code",
   "execution_count": null,
   "metadata": {},
   "outputs": [],
   "source": []
  }
 ],
 "metadata": {
  "kernelspec": {
   "display_name": "emu24",
   "language": "python",
   "name": "python3"
  },
  "language_info": {
   "codemirror_mode": {
    "name": "ipython",
    "version": 3
   },
   "file_extension": ".py",
   "mimetype": "text/x-python",
   "name": "python",
   "nbconvert_exporter": "python",
   "pygments_lexer": "ipython3",
   "version": "3.10.14"
  }
 },
 "nbformat": 4,
 "nbformat_minor": 2
}
